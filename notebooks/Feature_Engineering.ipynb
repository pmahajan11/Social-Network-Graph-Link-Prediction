{
  "cells": [
    {
      "cell_type": "markdown",
      "metadata": {
        "id": "168QPRizVFFg"
      },
      "source": [
        "<p style=\"font-size:32px;text-align:center\"> <b>Social network Graph Link Prediction - Facebook Challenge</b> </p>"
      ]
    },
    {
      "cell_type": "code",
      "execution_count": null,
      "metadata": {
        "id": "Q8lS7fVyVFFl"
      },
      "outputs": [],
      "source": [
        "#Importing Libraries\n",
        "\n",
        "import warnings\n",
        "warnings.filterwarnings(\"ignore\")\n",
        "#from google.colab import drive\n",
        "#drive.mount('/content/drive')\n",
        "import csv\n",
        "import pandas as pd#pandas to create small dataframes \n",
        "import datetime #Convert to unix time\n",
        "import time #Convert to unix time\n",
        "# if numpy is not installed already : pip3 install numpy\n",
        "import numpy as np#Do aritmetic operations on arrays\n",
        "# matplotlib: used to plot graphs\n",
        "import matplotlib\n",
        "import matplotlib.pylab as plt\n",
        "import seaborn as sns#Plots\n",
        "from matplotlib import rcParams#Size of plots  \n",
        "from sklearn.cluster import MiniBatchKMeans, KMeans#Clustering\n",
        "import math\n",
        "import pickle\n",
        "import os\n",
        "# to install xgboost: pip3 install xgboost\n",
        "import xgboost as xgb\n",
        "\n",
        "import warnings\n",
        "import networkx as nx\n",
        "import pdb\n",
        "import pickle\n",
        "from pandas import HDFStore, DataFrame\n",
        "from pandas import read_hdf\n",
        "from scipy.sparse.linalg import svds, eigs\n",
        "import gc\n",
        "from tqdm import tqdm"
      ]
    },
    {
      "cell_type": "markdown",
      "metadata": {
        "id": "1znHayNeVFFt"
      },
      "source": [
        "# 1. Reading Data"
      ]
    },
    {
      "cell_type": "code",
      "execution_count": null,
      "metadata": {
        "id": "xLnwytH0eBCJ"
      },
      "outputs": [],
      "source": [
        "# Folder path for data-sets\n",
        "folder_path = ''"
      ]
    },
    {
      "cell_type": "code",
      "execution_count": null,
      "metadata": {
        "colab": {
          "base_uri": "https://localhost:8080/"
        },
        "id": "ZznEwT-fiGXU",
        "outputId": "a4abc0ee-b540-4541-aad3-74d1fc9911bc"
      },
      "outputs": [
        {
          "name": "stdout",
          "output_type": "stream",
          "text": [
            "Name: \n",
            "Type: DiGraph\n",
            "Number of nodes: 1780722\n",
            "Number of edges: 7550015\n",
            "Average in degree:   4.2399\n",
            "Average out degree:   4.2399\n"
          ]
        }
      ],
      "source": [
        "if os.path.isfile(folder_path+'train_pos_after_eda.csv'):\n",
        "    train_graph=nx.read_edgelist(folder_path+'train_pos_after_eda.csv', delimiter=',', create_using=nx.DiGraph(), nodetype=int)\n",
        "    print(nx.info(train_graph))\n",
        "else:\n",
        "    print(\"please run the FB_EDA.ipynb or download the files from drive\")"
      ]
    },
    {
      "cell_type": "markdown",
      "metadata": {
        "id": "HmlUa64tVFF7"
      },
      "source": [
        "# 2. Similarity measures"
      ]
    },
    {
      "cell_type": "markdown",
      "metadata": {
        "id": "ivVMUMiWVFF9"
      },
      "source": [
        "## 2.1 Jaccard Distance:\n",
        "http://www.statisticshowto.com/jaccard-index/"
      ]
    },
    {
      "cell_type": "markdown",
      "metadata": {
        "id": "NoWCYuRBVFF_"
      },
      "source": [
        "\\begin{equation}\n",
        "j = \\frac{|X\\cap Y|}{|X \\cup Y|} \n",
        "\\end{equation}"
      ]
    },
    {
      "cell_type": "code",
      "execution_count": null,
      "metadata": {
        "id": "Seo4z5SnVFGB"
      },
      "outputs": [],
      "source": [
        "#for followees\n",
        "def jaccard_for_followees(a,b):\n",
        "    try:\n",
        "        if len(set(train_graph.successors(a))) == 0  | len(set(train_graph.successors(b))) == 0:\n",
        "            return 0\n",
        "        sim = (len(set(train_graph.successors(a)).intersection(set(train_graph.successors(b)))))/\\\n",
        "                                    (len(set(train_graph.successors(a)).union(set(train_graph.successors(b)))))\n",
        "    except:\n",
        "        return 0\n",
        "    return sim"
      ]
    },
    {
      "cell_type": "code",
      "execution_count": null,
      "metadata": {
        "colab": {
          "base_uri": "https://localhost:8080/"
        },
        "id": "Oa9FMlS8VFGF",
        "outputId": "dbb42eb5-0478-4ae7-986f-57af041ac40c"
      },
      "outputs": [
        {
          "name": "stdout",
          "output_type": "stream",
          "text": [
            "0.0\n"
          ]
        }
      ],
      "source": [
        "#one test case\n",
        "print(jaccard_for_followees(273084,1505602))"
      ]
    },
    {
      "cell_type": "code",
      "execution_count": null,
      "metadata": {
        "colab": {
          "base_uri": "https://localhost:8080/"
        },
        "id": "Gf8njOv6VFGK",
        "outputId": "6d0f865d-244e-45e3-e73b-9ec2e5608f69"
      },
      "outputs": [
        {
          "name": "stdout",
          "output_type": "stream",
          "text": [
            "0.0\n"
          ]
        }
      ],
      "source": [
        "#node 1635354 not in graph \n",
        "print(jaccard_for_followees(273084,1505602))"
      ]
    },
    {
      "cell_type": "code",
      "execution_count": null,
      "metadata": {
        "id": "LO-a5ZkKVFGO"
      },
      "outputs": [],
      "source": [
        "#for followers\n",
        "def jaccard_for_followers(a,b):\n",
        "    try:\n",
        "        if len(set(train_graph.predecessors(a))) == 0  | len(set(g.predecessors(b))) == 0:\n",
        "            return 0\n",
        "        sim = (len(set(train_graph.predecessors(a)).intersection(set(train_graph.predecessors(b)))))/\\\n",
        "                                 (len(set(train_graph.predecessors(a)).union(set(train_graph.predecessors(b)))))\n",
        "        return sim\n",
        "    except:\n",
        "        return 0"
      ]
    },
    {
      "cell_type": "code",
      "execution_count": null,
      "metadata": {
        "colab": {
          "base_uri": "https://localhost:8080/"
        },
        "id": "DlbX2t0jVFGQ",
        "outputId": "8944b831-7dbc-4a63-c143-bbabf2c5c16a"
      },
      "outputs": [
        {
          "name": "stdout",
          "output_type": "stream",
          "text": [
            "0\n"
          ]
        }
      ],
      "source": [
        "print(jaccard_for_followers(273084,470294))"
      ]
    },
    {
      "cell_type": "code",
      "execution_count": null,
      "metadata": {
        "colab": {
          "base_uri": "https://localhost:8080/"
        },
        "id": "OgeBW2LMVFGU",
        "outputId": "9c324ce3-baac-459e-a898-82e5b3e9b10d"
      },
      "outputs": [
        {
          "name": "stdout",
          "output_type": "stream",
          "text": [
            "0\n"
          ]
        }
      ],
      "source": [
        "#node 1635354 not in graph \n",
        "print(jaccard_for_followers(669354,1635354))"
      ]
    },
    {
      "cell_type": "markdown",
      "metadata": {
        "id": "MnH2my2UVFGX"
      },
      "source": [
        "## 2.2 Cosine distance"
      ]
    },
    {
      "cell_type": "markdown",
      "metadata": {
        "id": "XNvdBGS2VFGY"
      },
      "source": [
        "\\begin{equation}\n",
        "CosineDistance = \\frac{|X\\cap Y|}{|X|\\cdot|Y|} \n",
        "\\end{equation}"
      ]
    },
    {
      "cell_type": "code",
      "execution_count": null,
      "metadata": {
        "id": "Iznz67EdVFGZ"
      },
      "outputs": [],
      "source": [
        "#for followees\n",
        "def cosine_for_followees(a,b):\n",
        "    try:\n",
        "        if len(set(train_graph.successors(a))) == 0  | len(set(train_graph.successors(b))) == 0:\n",
        "            return 0\n",
        "        sim = (len(set(train_graph.successors(a)).intersection(set(train_graph.successors(b)))))/\\\n",
        "                                    (math.sqrt(len(set(train_graph.successors(a)))*len((set(train_graph.successors(b))))))\n",
        "        return sim\n",
        "    except:\n",
        "        return 0"
      ]
    },
    {
      "cell_type": "code",
      "execution_count": null,
      "metadata": {
        "colab": {
          "base_uri": "https://localhost:8080/"
        },
        "id": "H55ALjkMVFGc",
        "outputId": "7e99a41c-96d2-4a56-8cc7-922edbb5bf2f"
      },
      "outputs": [
        {
          "name": "stdout",
          "output_type": "stream",
          "text": [
            "0.0\n"
          ]
        }
      ],
      "source": [
        "print(cosine_for_followees(273084,1505602))"
      ]
    },
    {
      "cell_type": "code",
      "execution_count": null,
      "metadata": {
        "colab": {
          "base_uri": "https://localhost:8080/"
        },
        "id": "q0RGKgJFVFGf",
        "outputId": "86c8998a-fe40-436f-a1bf-cb4a376234e6"
      },
      "outputs": [
        {
          "name": "stdout",
          "output_type": "stream",
          "text": [
            "0\n"
          ]
        }
      ],
      "source": [
        "print(cosine_for_followees(273084,1635354))"
      ]
    },
    {
      "cell_type": "code",
      "execution_count": null,
      "metadata": {
        "id": "KJ_yGxA0VFGj"
      },
      "outputs": [],
      "source": [
        "def cosine_for_followers(a,b):\n",
        "    try:\n",
        "        \n",
        "        if len(set(train_graph.predecessors(a))) == 0  | len(set(train_graph.predecessors(b))) == 0:\n",
        "            return 0\n",
        "        sim = (len(set(train_graph.predecessors(a)).intersection(set(train_graph.predecessors(b)))))/\\\n",
        "                                     (math.sqrt(len(set(train_graph.predecessors(a))))*(len(set(train_graph.predecessors(b)))))\n",
        "        return sim\n",
        "    except:\n",
        "        return 0"
      ]
    },
    {
      "cell_type": "code",
      "execution_count": null,
      "metadata": {
        "colab": {
          "base_uri": "https://localhost:8080/"
        },
        "id": "75QrFJb6VFGm",
        "outputId": "0e0b6121-3746-41ef-aadb-558cb53ae9ac"
      },
      "outputs": [
        {
          "name": "stdout",
          "output_type": "stream",
          "text": [
            "0.02886751345948129\n"
          ]
        }
      ],
      "source": [
        "print(cosine_for_followers(2,470294))"
      ]
    },
    {
      "cell_type": "code",
      "execution_count": null,
      "metadata": {
        "colab": {
          "base_uri": "https://localhost:8080/"
        },
        "id": "-ut4k_F0VFGq",
        "outputId": "c44e95e2-291f-425c-bb48-96a3f2078544"
      },
      "outputs": [
        {
          "name": "stdout",
          "output_type": "stream",
          "text": [
            "0\n"
          ]
        }
      ],
      "source": [
        "print(cosine_for_followers(669354,1635354))"
      ]
    },
    {
      "cell_type": "markdown",
      "metadata": {
        "id": "DaIHhWh6VFGv"
      },
      "source": [
        "## 3. Ranking Measures"
      ]
    },
    {
      "cell_type": "markdown",
      "metadata": {
        "id": "6nfV1SprVFGx"
      },
      "source": [
        "https://networkx.github.io/documentation/networkx-1.10/reference/generated/networkx.algorithms.link_analysis.pagerank_alg.pagerank.html\n",
        "\n",
        "PageRank computes a ranking of the nodes in the graph G based on the structure of the incoming links.\n",
        "\n",
        "<img src='PageRanks-Example.jpg'/>\n",
        "\n",
        "Mathematical PageRanks for a simple network, expressed as percentages. (Google uses a logarithmic scale.) Page C has a higher PageRank than Page E, even though there are fewer links to C; the one link to C comes from an important page and hence is of high value. If web surfers who start on a random page have an 85% likelihood of choosing a random link from the page they are currently visiting, and a 15% likelihood of jumping to a page chosen at random from the entire web, they will reach Page E 8.1% of the time. <b>(The 15% likelihood of jumping to an arbitrary page corresponds to a damping factor of 85%.) Without damping, all web surfers would eventually end up on Pages A, B, or C, and all other pages would have PageRank zero. In the presence of damping, Page A effectively links to all pages in the web, even though it has no outgoing links of its own.</b>"
      ]
    },
    {
      "cell_type": "markdown",
      "metadata": {
        "id": "GkkfYYZ6VFGy"
      },
      "source": [
        "## 3.1 Page Ranking\n",
        "\n",
        "https://en.wikipedia.org/wiki/PageRank\n"
      ]
    },
    {
      "cell_type": "code",
      "execution_count": null,
      "metadata": {
        "id": "rOTEEGl-jKGf"
      },
      "outputs": [],
      "source": [
        "if not os.path.isfile(folder_path+'page_rank.p'):\n",
        "    pr = nx.pagerank(train_graph, alpha=0.85)\n",
        "    pickle.dump(pr,open(folder_path+'page_rank.p','wb'))\n",
        "else:\n",
        "    pr = pickle.load(open(folder_path+'page_rank.p','rb'))"
      ]
    },
    {
      "cell_type": "code",
      "execution_count": null,
      "metadata": {
        "colab": {
          "base_uri": "https://localhost:8080/"
        },
        "id": "5TzCZ-BkkEHW",
        "outputId": "d2eb0c9a-6599-4894-942c-f0931d499594"
      },
      "outputs": [
        {
          "name": "stdout",
          "output_type": "stream",
          "text": [
            "min 1.6556497245737814e-07\n",
            "max 2.7098251341935827e-05\n",
            "mean 5.615699699389075e-07\n"
          ]
        }
      ],
      "source": [
        "print('min',pr[min(pr, key=pr.get)])\n",
        "print('max',pr[max(pr, key=pr.get)])\n",
        "print('mean',float(sum(pr.values())) / len(pr))"
      ]
    },
    {
      "cell_type": "code",
      "execution_count": null,
      "metadata": {
        "colab": {
          "base_uri": "https://localhost:8080/"
        },
        "id": "5xwlah4oVFG4",
        "outputId": "fe0aaee9-406b-40fc-f0dc-50966f074517"
      },
      "outputs": [
        {
          "name": "stdout",
          "output_type": "stream",
          "text": [
            "5.615699699389075e-07\n"
          ]
        }
      ],
      "source": [
        "#for imputing to nodes which are not there in Train data\n",
        "mean_pr = float(sum(pr.values())) / len(pr)\n",
        "print(mean_pr)"
      ]
    },
    {
      "cell_type": "markdown",
      "metadata": {
        "id": "HhPbSL1tVFG7"
      },
      "source": [
        "# 4. Other Graph Features"
      ]
    },
    {
      "cell_type": "markdown",
      "metadata": {
        "id": "AgsorCl7VFG8"
      },
      "source": [
        "## 4.1 Shortest path:"
      ]
    },
    {
      "cell_type": "markdown",
      "metadata": {
        "id": "E7teH2LCVFG9"
      },
      "source": [
        "Getting Shortest path between twoo nodes, if nodes have direct path i.e directly connected then we are removing that edge and calculating path. "
      ]
    },
    {
      "cell_type": "code",
      "execution_count": null,
      "metadata": {
        "id": "RA076ovzVFG9"
      },
      "outputs": [],
      "source": [
        "#if has direct edge then deleting that edge and calculating shortest path\n",
        "def compute_shortest_path_length(a,b):\n",
        "    p=-1\n",
        "    try:\n",
        "        if train_graph.has_edge(a,b):\n",
        "            train_graph.remove_edge(a,b)\n",
        "            p= nx.shortest_path_length(train_graph,source=a,target=b)\n",
        "            train_graph.add_edge(a,b)\n",
        "        else:\n",
        "            p= nx.shortest_path_length(train_graph,source=a,target=b)\n",
        "        return p\n",
        "    except:\n",
        "        return -1"
      ]
    },
    {
      "cell_type": "code",
      "execution_count": null,
      "metadata": {
        "colab": {
          "base_uri": "https://localhost:8080/"
        },
        "id": "AxnKId11VFG_",
        "outputId": "0d38b395-9a7a-4f16-a373-7572dd3f24a8"
      },
      "outputs": [
        {
          "data": {
            "text/plain": [
              "10"
            ]
          },
          "execution_count": 21,
          "metadata": {},
          "output_type": "execute_result"
        }
      ],
      "source": [
        "#testing\n",
        "compute_shortest_path_length(77697, 826021)"
      ]
    },
    {
      "cell_type": "code",
      "execution_count": null,
      "metadata": {
        "colab": {
          "base_uri": "https://localhost:8080/"
        },
        "id": "0huWCNtRVFHC",
        "outputId": "0e4ae1e6-6304-4a49-aad6-210103e20734"
      },
      "outputs": [
        {
          "data": {
            "text/plain": [
              "-1"
            ]
          },
          "execution_count": 22,
          "metadata": {},
          "output_type": "execute_result"
        }
      ],
      "source": [
        "#testing\n",
        "compute_shortest_path_length(669354,1635354)"
      ]
    },
    {
      "cell_type": "markdown",
      "metadata": {
        "id": "baE_95bzVFHF"
      },
      "source": [
        "## 4.2 Checking for same community"
      ]
    },
    {
      "cell_type": "code",
      "execution_count": null,
      "metadata": {
        "id": "15CIQqAbVFHG"
      },
      "outputs": [],
      "source": [
        "#getting weekly connected edges from graph \n",
        "wcc=list(nx.weakly_connected_components(train_graph))\n",
        "def belongs_to_same_wcc(a,b):\n",
        "    index = []\n",
        "    if train_graph.has_edge(b,a):\n",
        "        return 1\n",
        "    if train_graph.has_edge(a,b):\n",
        "            for i in wcc:\n",
        "                if a in i:\n",
        "                    index= i\n",
        "                    break\n",
        "            if (b in index):\n",
        "                train_graph.remove_edge(a,b)\n",
        "                if compute_shortest_path_length(a,b)==-1:\n",
        "                    train_graph.add_edge(a,b)\n",
        "                    return 0\n",
        "                else:\n",
        "                    train_graph.add_edge(a,b)\n",
        "                    return 1\n",
        "            else:\n",
        "                return 0\n",
        "    else:\n",
        "            for i in wcc:\n",
        "                if a in i:\n",
        "                    index= i\n",
        "                    break\n",
        "            if(b in index):\n",
        "                return 1\n",
        "            else:\n",
        "                return 0"
      ]
    },
    {
      "cell_type": "code",
      "execution_count": null,
      "metadata": {
        "colab": {
          "base_uri": "https://localhost:8080/"
        },
        "id": "fAzOHtCFVFHI",
        "outputId": "c1c9422e-255d-4800-e692-2f32cb54ff29"
      },
      "outputs": [
        {
          "data": {
            "text/plain": [
              "0"
            ]
          },
          "execution_count": 24,
          "metadata": {},
          "output_type": "execute_result"
        }
      ],
      "source": [
        "belongs_to_same_wcc(861, 1659750)"
      ]
    },
    {
      "cell_type": "code",
      "execution_count": null,
      "metadata": {
        "colab": {
          "base_uri": "https://localhost:8080/"
        },
        "id": "HMdYpPuGVFHK",
        "outputId": "4864f8f6-91e1-475f-f946-6cf020ce64f6"
      },
      "outputs": [
        {
          "data": {
            "text/plain": [
              "0"
            ]
          },
          "execution_count": 25,
          "metadata": {},
          "output_type": "execute_result"
        }
      ],
      "source": [
        "belongs_to_same_wcc(669354,1635354)"
      ]
    },
    {
      "cell_type": "markdown",
      "metadata": {
        "id": "q74nth0OVFHN"
      },
      "source": [
        "## 4.3 Adamic/Adar Index:\n",
        "Adamic/Adar measures is defined as inverted sum of degrees of common neighbours for given two vertices.\n",
        "$$A(x,y)=\\sum_{u \\in N(x) \\cap N(y)}\\frac{1}{log(|N(u)|)}$$"
      ]
    },
    {
      "cell_type": "code",
      "execution_count": null,
      "metadata": {
        "id": "CeS98LI5VFHO"
      },
      "outputs": [],
      "source": [
        "#adar index\n",
        "def calc_adar_in(a,b):\n",
        "    sum=0\n",
        "    try:\n",
        "        n=list(set(train_graph.successors(a)).intersection(set(train_graph.successors(b))))\n",
        "        if len(n)!=0:\n",
        "            for i in n:\n",
        "                sum=sum+(1/np.log10(len(list(train_graph.predecessors(i)))))\n",
        "            return sum\n",
        "        else:\n",
        "            return 0\n",
        "    except:\n",
        "        return 0"
      ]
    },
    {
      "cell_type": "code",
      "execution_count": null,
      "metadata": {
        "colab": {
          "base_uri": "https://localhost:8080/"
        },
        "id": "KezFeRmyVFHQ",
        "outputId": "b49afeb8-36cd-4291-bbbc-feaa7c464698"
      },
      "outputs": [
        {
          "data": {
            "text/plain": [
              "0"
            ]
          },
          "execution_count": 27,
          "metadata": {},
          "output_type": "execute_result"
        }
      ],
      "source": [
        "calc_adar_in(1,189226)"
      ]
    },
    {
      "cell_type": "code",
      "execution_count": null,
      "metadata": {
        "colab": {
          "base_uri": "https://localhost:8080/"
        },
        "id": "vj_m89bBVFHV",
        "outputId": "06aa4a11-35e3-428e-bbff-56b20eaa7e82"
      },
      "outputs": [
        {
          "data": {
            "text/plain": [
              "0"
            ]
          },
          "execution_count": 28,
          "metadata": {},
          "output_type": "execute_result"
        }
      ],
      "source": [
        "calc_adar_in(669354,1635354)"
      ]
    },
    {
      "cell_type": "markdown",
      "metadata": {
        "id": "pBUudhFAVFHY"
      },
      "source": [
        "## 4.4 Is persion was following back:"
      ]
    },
    {
      "cell_type": "code",
      "execution_count": null,
      "metadata": {
        "id": "j_mwmopLVFHZ"
      },
      "outputs": [],
      "source": [
        "def follows_back(a,b):\n",
        "    if train_graph.has_edge(b,a):\n",
        "        return 1\n",
        "    else:\n",
        "        return 0"
      ]
    },
    {
      "cell_type": "code",
      "execution_count": null,
      "metadata": {
        "colab": {
          "base_uri": "https://localhost:8080/"
        },
        "id": "LdjUXIfbVFHb",
        "outputId": "5889c3ea-7579-47b0-80dd-80a3a1f3e548"
      },
      "outputs": [
        {
          "data": {
            "text/plain": [
              "1"
            ]
          },
          "execution_count": 30,
          "metadata": {},
          "output_type": "execute_result"
        }
      ],
      "source": [
        "follows_back(1,189226)"
      ]
    },
    {
      "cell_type": "code",
      "execution_count": null,
      "metadata": {
        "colab": {
          "base_uri": "https://localhost:8080/"
        },
        "id": "PmZtL65YVFHf",
        "outputId": "b449db1c-b85b-447d-f0a6-c74994817bc2"
      },
      "outputs": [
        {
          "data": {
            "text/plain": [
              "0"
            ]
          },
          "execution_count": 31,
          "metadata": {},
          "output_type": "execute_result"
        }
      ],
      "source": [
        "follows_back(669354,1635354)"
      ]
    },
    {
      "cell_type": "markdown",
      "metadata": {
        "id": "29Vrq2EXVFHi"
      },
      "source": [
        "## 4.5 Katz Centrality:\n",
        "https://en.wikipedia.org/wiki/Katz_centrality\n",
        "\n",
        "https://www.geeksforgeeks.org/katz-centrality-centrality-measure/\n",
        " Katz centrality computes the centrality for a node \n",
        "    based on the centrality of its neighbors. It is a \n",
        "    generalization of the eigenvector centrality. The\n",
        "    Katz centrality for node `i` is\n",
        " \n",
        "$$x_i = \\alpha \\sum_{j} A_{ij} x_j + \\beta,$$\n",
        "where `A` is the adjacency matrix of the graph G \n",
        "with eigenvalues $$\\lambda$$.\n",
        "\n",
        "The parameter $$\\beta$$ controls the initial centrality and \n",
        "\n",
        "$$\\alpha < \\frac{1}{\\lambda_{max}}.$$"
      ]
    },
    {
      "cell_type": "code",
      "execution_count": null,
      "metadata": {
        "id": "CN5OSqrkVFHj"
      },
      "outputs": [],
      "source": [
        "if not os.path.isfile(folder_path+'katz.p'):\n",
        "    katz = nx.katz.katz_centrality(train_graph,alpha=0.005,beta=1)\n",
        "    pickle.dump(katz,open(folder_path+'katz.p','wb'))\n",
        "else:\n",
        "    katz = pickle.load(open(folder_path+'katz.p','rb'))"
      ]
    },
    {
      "cell_type": "code",
      "execution_count": null,
      "metadata": {
        "colab": {
          "base_uri": "https://localhost:8080/"
        },
        "id": "gcU83vw7VFHm",
        "outputId": "924a3b99-9325-4f85-d0b6-2a21c7a61b7b"
      },
      "outputs": [
        {
          "name": "stdout",
          "output_type": "stream",
          "text": [
            "min 0.0007313532484065916\n",
            "max 0.003394554981699122\n",
            "mean 0.0007483800935562018\n"
          ]
        }
      ],
      "source": [
        "print('min',katz[min(katz, key=katz.get)])\n",
        "print('max',katz[max(katz, key=katz.get)])\n",
        "print('mean',float(sum(katz.values())) / len(katz))"
      ]
    },
    {
      "cell_type": "code",
      "execution_count": null,
      "metadata": {
        "colab": {
          "base_uri": "https://localhost:8080/"
        },
        "id": "qcboIksiVFHt",
        "outputId": "cf765fd3-ae10-4a0e-e363-95d0c66c72a5"
      },
      "outputs": [
        {
          "name": "stdout",
          "output_type": "stream",
          "text": [
            "0.0007483800935562018\n"
          ]
        }
      ],
      "source": [
        "mean_katz = float(sum(katz.values())) / len(katz)\n",
        "print(mean_katz)"
      ]
    },
    {
      "cell_type": "markdown",
      "metadata": {
        "id": "SRZqGFgYVFHx"
      },
      "source": [
        "## 4.6 Hits Score\n",
        "The HITS algorithm computes two numbers for a node. Authorities estimates the node value based on the incoming links. Hubs estimates the node value based on outgoing links.\n",
        "\n",
        "https://en.wikipedia.org/wiki/HITS_algorithm"
      ]
    },
    {
      "cell_type": "code",
      "execution_count": null,
      "metadata": {
        "id": "WXNHRdzUVFHz"
      },
      "outputs": [],
      "source": [
        "if not os.path.isfile(folder_path+'hits.p'):\n",
        "    hits = nx.hits(train_graph, max_iter=100, tol=1e-08, nstart=None, normalized=True)\n",
        "    pickle.dump(hits,open(folder_path+'hits.p','wb'))\n",
        "else:\n",
        "    hits = pickle.load(open(folder_path+'hits.p','rb'))"
      ]
    },
    {
      "cell_type": "code",
      "execution_count": null,
      "metadata": {
        "colab": {
          "base_uri": "https://localhost:8080/"
        },
        "id": "PSUwSZBVVFH3",
        "outputId": "4b7f16e5-1fea-4bc3-f014-94d082b091f5"
      },
      "outputs": [
        {
          "name": "stdout",
          "output_type": "stream",
          "text": [
            "min 0.0\n",
            "max 0.004868653378780953\n",
            "mean 5.615699699344123e-07\n"
          ]
        }
      ],
      "source": [
        "print('min',hits[0][min(hits[0], key=hits[0].get)])\n",
        "print('max',hits[0][max(hits[0], key=hits[0].get)])\n",
        "print('mean',float(sum(hits[0].values())) / len(hits[0]))"
      ]
    },
    {
      "cell_type": "markdown",
      "metadata": {
        "id": "ZZtowOLZVFH6"
      },
      "source": [
        "# 5. Featurization"
      ]
    },
    {
      "cell_type": "markdown",
      "metadata": {
        "id": "o6NnRWmLVFH6"
      },
      "source": [
        "## 5. 1 Reading the whole Data from both train and test"
      ]
    },
    {
      "cell_type": "code",
      "execution_count": null,
      "metadata": {
        "id": "yUHJ1qV7-ivv"
      },
      "outputs": [],
      "source": [
        "#df = pd.read_csv(folder_path+'train_after_eda.csv')\n",
        "#df.shape"
      ]
    },
    {
      "cell_type": "code",
      "execution_count": null,
      "metadata": {
        "id": "wgHje1UVVFH8",
        "outputId": "2efd5a56-82cc-4c58-9222-0afbf6ddc4ab"
      },
      "outputs": [
        {
          "data": {
            "text/plain": [
              "'\\nimport random\\nif os.path.isfile(folder_path+\\'train_after_eda.csv\\'):\\n    filename = folder_path+\"train_after_eda.csv\"\\n    # you uncomment this line, if you dont know the lentgh of the file name\\n    # here we have hardcoded the number of lines as 15100030\\n    # n_train = sum(1 for line in open(filename)) #number of records in file (excludes header)\\n    n_train =  15100028\\n    s = 100000 #desired sample size\\n    skip_train = sorted(random.sample(range(1,n_train+1),n_train-s))\\n    #https://stackoverflow.com/a/22259008/4084039\\n'"
            ]
          },
          "execution_count": 38,
          "metadata": {},
          "output_type": "execute_result"
        }
      ],
      "source": [
        "'''\n",
        "import random\n",
        "if os.path.isfile(folder_path+'train_after_eda.csv'):\n",
        "    filename = folder_path+\"train_after_eda.csv\"\n",
        "    # you uncomment this line, if you dont know the lentgh of the file name\n",
        "    # here we have hardcoded the number of lines as 15100030\n",
        "    # n_train = sum(1 for line in open(filename)) #number of records in file (excludes header)\n",
        "    n_train =  15100028\n",
        "    s = 100000 #desired sample size\n",
        "    skip_train = sorted(random.sample(range(1,n_train+1),n_train-s))\n",
        "    #https://stackoverflow.com/a/22259008/4084039\n",
        "'''"
      ]
    },
    {
      "cell_type": "code",
      "execution_count": null,
      "metadata": {
        "id": "zOzuRFFlVFH-",
        "outputId": "0b100598-c7f9-4ed7-ee50-cafce179f0f6"
      },
      "outputs": [
        {
          "data": {
            "text/plain": [
              "'\\nif os.path.isfile(folder_path+\\'test_after_eda.csv\\'):\\n    filename = folder_path+\"test_after_eda.csv\"\\n    # you uncomment this line, if you dont know the lentgh of the file name\\n    # here we have hardcoded the number of lines as 3775008\\n    # n_test = sum(1 for line in open(filename)) #number of records in file (excludes header)\\n    n_test = 3775006\\n    s = 50000 #desired sample size\\n    skip_test = sorted(random.sample(range(1,n_test+1),n_test-s))\\n    #https://stackoverflow.com/a/22259008/4084039\\n'"
            ]
          },
          "execution_count": 39,
          "metadata": {},
          "output_type": "execute_result"
        }
      ],
      "source": [
        "'''\n",
        "if os.path.isfile(folder_path+'test_after_eda.csv'):\n",
        "    filename = folder_path+\"test_after_eda.csv\"\n",
        "    # you uncomment this line, if you dont know the lentgh of the file name\n",
        "    # here we have hardcoded the number of lines as 3775008\n",
        "    # n_test = sum(1 for line in open(filename)) #number of records in file (excludes header)\n",
        "    n_test = 3775006\n",
        "    s = 50000 #desired sample size\n",
        "    skip_test = sorted(random.sample(range(1,n_test+1),n_test-s))\n",
        "    #https://stackoverflow.com/a/22259008/4084039\n",
        "'''"
      ]
    },
    {
      "cell_type": "code",
      "execution_count": null,
      "metadata": {
        "colab": {
          "base_uri": "https://localhost:8080/"
        },
        "id": "3D_SeUCOVFH_",
        "outputId": "d8dbefa1-33b4-4a22-f713-55e5b3fe408f"
      },
      "outputs": [
        {
          "data": {
            "text/plain": [
              "'\\nprint(\"Number of rows in the train data file:\", n_train)\\nprint(\"Number of rows we are going to elimiate in train data are\",len(skip_train))\\nprint(\"Number of rows in the test data file:\", n_test)\\nprint(\"Number of rows we are going to elimiate in test data are\",len(skip_test))\\n'"
            ]
          },
          "execution_count": 40,
          "metadata": {},
          "output_type": "execute_result"
        }
      ],
      "source": [
        "'''\n",
        "print(\"Number of rows in the train data file:\", n_train)\n",
        "print(\"Number of rows we are going to elimiate in train data are\",len(skip_train))\n",
        "print(\"Number of rows in the test data file:\", n_test)\n",
        "print(\"Number of rows we are going to elimiate in test data are\",len(skip_test))\n",
        "'''"
      ]
    },
    {
      "cell_type": "code",
      "execution_count": null,
      "metadata": {
        "colab": {
          "base_uri": "https://localhost:8080/",
          "height": 124
        },
        "id": "pCisf6PpVFID",
        "outputId": "540cbda5-f97b-4127-c82e-3f6a15f2bf89"
      },
      "outputs": [
        {
          "name": "stdout",
          "output_type": "stream",
          "text": [
            "Our train matrix size  (15100030, 3)\n"
          ]
        },
        {
          "data": {
            "text/html": [
              "<div>\n",
              "<style scoped>\n",
              "    .dataframe tbody tr th:only-of-type {\n",
              "        vertical-align: middle;\n",
              "    }\n",
              "\n",
              "    .dataframe tbody tr th {\n",
              "        vertical-align: top;\n",
              "    }\n",
              "\n",
              "    .dataframe thead th {\n",
              "        text-align: right;\n",
              "    }\n",
              "</style>\n",
              "<table border=\"1\" class=\"dataframe\">\n",
              "  <thead>\n",
              "    <tr style=\"text-align: right;\">\n",
              "      <th></th>\n",
              "      <th>source_node</th>\n",
              "      <th>destination_node</th>\n",
              "      <th>indicator_link</th>\n",
              "    </tr>\n",
              "  </thead>\n",
              "  <tbody>\n",
              "    <tr>\n",
              "      <th>0</th>\n",
              "      <td>273084</td>\n",
              "      <td>1505602</td>\n",
              "      <td>1</td>\n",
              "    </tr>\n",
              "    <tr>\n",
              "      <th>1</th>\n",
              "      <td>912810</td>\n",
              "      <td>1678443</td>\n",
              "      <td>1</td>\n",
              "    </tr>\n",
              "  </tbody>\n",
              "</table>\n",
              "</div>"
            ],
            "text/plain": [
              "   source_node  destination_node  indicator_link\n",
              "0       273084           1505602               1\n",
              "1       912810           1678443               1"
            ]
          },
          "execution_count": 41,
          "metadata": {},
          "output_type": "execute_result"
        }
      ],
      "source": [
        "'''skiprows=skip_train,'''\n",
        "df_final_train = pd.read_csv(folder_path+'train_after_eda.csv', names=['source_node', 'destination_node'])\n",
        "df_final_train['indicator_link'] = pd.read_csv(folder_path+'train_y.csv', names=['indicator_link'])\n",
        "print(\"Our train matrix size \",df_final_train.shape)\n",
        "df_final_train.head(2)"
      ]
    },
    {
      "cell_type": "code",
      "execution_count": null,
      "metadata": {
        "colab": {
          "base_uri": "https://localhost:8080/",
          "height": 124
        },
        "id": "tFn1RkdyVFIH",
        "outputId": "cf4577da-6175-4400-e82d-d2d96e396954"
      },
      "outputs": [
        {
          "name": "stdout",
          "output_type": "stream",
          "text": [
            "Our test matrix size  (3775008, 3)\n"
          ]
        },
        {
          "data": {
            "text/html": [
              "<div>\n",
              "<style scoped>\n",
              "    .dataframe tbody tr th:only-of-type {\n",
              "        vertical-align: middle;\n",
              "    }\n",
              "\n",
              "    .dataframe tbody tr th {\n",
              "        vertical-align: top;\n",
              "    }\n",
              "\n",
              "    .dataframe thead th {\n",
              "        text-align: right;\n",
              "    }\n",
              "</style>\n",
              "<table border=\"1\" class=\"dataframe\">\n",
              "  <thead>\n",
              "    <tr style=\"text-align: right;\">\n",
              "      <th></th>\n",
              "      <th>source_node</th>\n",
              "      <th>destination_node</th>\n",
              "      <th>indicator_link</th>\n",
              "    </tr>\n",
              "  </thead>\n",
              "  <tbody>\n",
              "    <tr>\n",
              "      <th>0</th>\n",
              "      <td>848424</td>\n",
              "      <td>784690</td>\n",
              "      <td>1</td>\n",
              "    </tr>\n",
              "    <tr>\n",
              "      <th>1</th>\n",
              "      <td>1248963</td>\n",
              "      <td>444518</td>\n",
              "      <td>1</td>\n",
              "    </tr>\n",
              "  </tbody>\n",
              "</table>\n",
              "</div>"
            ],
            "text/plain": [
              "   source_node  destination_node  indicator_link\n",
              "0       848424            784690               1\n",
              "1      1248963            444518               1"
            ]
          },
          "execution_count": 42,
          "metadata": {},
          "output_type": "execute_result"
        }
      ],
      "source": [
        "'''skiprows=skip_train,'''\n",
        "df_final_test = pd.read_csv(folder_path+'test_after_eda.csv', names=['source_node', 'destination_node'])\n",
        "df_final_test['indicator_link'] = pd.read_csv(folder_path+'test_y.csv', names=['indicator_link'])\n",
        "print(\"Our test matrix size \",df_final_test.shape)\n",
        "df_final_test.head(2)"
      ]
    },
    {
      "cell_type": "markdown",
      "metadata": {
        "id": "gIaOWDaDVFIJ"
      },
      "source": [
        "## 5.2 Adding a set of features\n",
        "\n",
        "__each of these features are created for both train and test data points__\n",
        "<ol>\n",
        "<li>jaccard_followers</li>\n",
        "<li>jaccard_followees</li>\n",
        "<li>cosine_followers</li>\n",
        "<li>cosine_followees</li>\n",
        "<li>num_followers_s</li>\n",
        "<li>num_followees_s</li>\n",
        "<li>num_followers_d</li>\n",
        "<li>num_followees_d</li>\n",
        "<li>inter_followers</li>\n",
        "<li>inter_followees</li>\n",
        "</ol>"
      ]
    },
    {
      "cell_type": "code",
      "execution_count": null,
      "metadata": {
        "id": "2qTkOiBcVFIJ"
      },
      "outputs": [],
      "source": [
        "if not os.path.isfile(folder_path+'storage_stage1.h5'):\n",
        "    #mapping jaccrd followers to train and test data\n",
        "    df_final_train['jaccard_followers'] = df_final_train.apply(lambda row:\n",
        "                                            jaccard_for_followers(row['source_node'],row['destination_node']),axis=1)\n",
        "    df_final_test['jaccard_followers'] = df_final_test.apply(lambda row:\n",
        "                                            jaccard_for_followers(row['source_node'],row['destination_node']),axis=1)\n",
        "\n",
        "    #mapping jaccrd followees to train and test data\n",
        "    df_final_train['jaccard_followees'] = df_final_train.apply(lambda row:\n",
        "                                            jaccard_for_followees(row['source_node'],row['destination_node']),axis=1)\n",
        "    df_final_test['jaccard_followees'] = df_final_test.apply(lambda row:\n",
        "                                            jaccard_for_followees(row['source_node'],row['destination_node']),axis=1)\n",
        "    \n",
        "\n",
        "        #mapping jaccrd followers to train and test data\n",
        "    df_final_train['cosine_followers'] = df_final_train.apply(lambda row:\n",
        "                                            cosine_for_followers(row['source_node'],row['destination_node']),axis=1)\n",
        "    df_final_test['cosine_followers'] = df_final_test.apply(lambda row:\n",
        "                                            cosine_for_followers(row['source_node'],row['destination_node']),axis=1)\n",
        "\n",
        "    #mapping jaccrd followees to train and test data\n",
        "    df_final_train['cosine_followees'] = df_final_train.apply(lambda row:\n",
        "                                            cosine_for_followees(row['source_node'],row['destination_node']),axis=1)\n",
        "    df_final_test['cosine_followees'] = df_final_test.apply(lambda row:\n",
        "                                            cosine_for_followees(row['source_node'],row['destination_node']),axis=1)"
      ]
    },
    {
      "cell_type": "code",
      "execution_count": null,
      "metadata": {
        "id": "fz2eZpSnVFIL"
      },
      "outputs": [],
      "source": [
        "def compute_features_stage1(df_final):\n",
        "    #calculating no of followers followees for source and destination\n",
        "    #calculating intersection of followers and followees for source and destination\n",
        "    num_followers_s=[]\n",
        "    num_followees_s=[]\n",
        "    num_followers_d=[]\n",
        "    num_followees_d=[]\n",
        "    inter_followers=[]\n",
        "    inter_followees=[]\n",
        "    for i,row in df_final.iterrows():\n",
        "        try:\n",
        "            s1=set(train_graph.predecessors(row['source_node']))\n",
        "            s2=set(train_graph.successors(row['source_node']))\n",
        "        except:\n",
        "            s1 = set()\n",
        "            s2 = set()\n",
        "        try:\n",
        "            d1=set(train_graph.predecessors(row['destination_node']))\n",
        "            d2=set(train_graph.successors(row['destination_node']))\n",
        "        except:\n",
        "            d1 = set()\n",
        "            d2 = set()\n",
        "        num_followers_s.append(len(s1))\n",
        "        num_followees_s.append(len(s2))\n",
        "\n",
        "        num_followers_d.append(len(d1))\n",
        "        num_followees_d.append(len(d2))\n",
        "\n",
        "        inter_followers.append(len(s1.intersection(d1)))\n",
        "        inter_followees.append(len(s2.intersection(d2)))\n",
        "    \n",
        "    return num_followers_s, num_followers_d, num_followees_s, num_followees_d, inter_followers, inter_followees"
      ]
    },
    {
      "cell_type": "code",
      "execution_count": null,
      "metadata": {
        "id": "VFc60kcRVFIN"
      },
      "outputs": [],
      "source": [
        "if not os.path.isfile(folder_path+'storage_stage1.h5'):\n",
        "    df_final_train['num_followers_s'], df_final_train['num_followers_d'], \\\n",
        "    df_final_train['num_followees_s'], df_final_train['num_followees_d'], \\\n",
        "    df_final_train['inter_followers'], df_final_train['inter_followees']= compute_features_stage1(df_final_train)\n",
        "    \n",
        "    df_final_test['num_followers_s'], df_final_test['num_followers_d'], \\\n",
        "    df_final_test['num_followees_s'], df_final_test['num_followees_d'], \\\n",
        "    df_final_test['inter_followers'], df_final_test['inter_followees']= compute_features_stage1(df_final_test)\n",
        "    \n",
        "    hdf = HDFStore(folder_path+'storage_stage1.h5')\n",
        "    hdf.put('train_df',df_final_train, format='table', data_columns=True)\n",
        "    hdf.put('test_df',df_final_test, format='table', data_columns=True)\n",
        "    hdf.close()\n",
        "else:\n",
        "    df_final_train = read_hdf(folder_path+'storage_stage1.h5', 'train_df',mode='r')\n",
        "    df_final_test = read_hdf(folder_path+'storage_stage1.h5', 'test_df',mode='r')"
      ]
    },
    {
      "cell_type": "code",
      "execution_count": null,
      "metadata": {
        "id": "jrDl_Px8eBCT",
        "outputId": "a4b60241-e837-42fc-f0ca-81e53a293327"
      },
      "outputs": [
        {
          "data": {
            "text/html": [
              "<div>\n",
              "<style scoped>\n",
              "    .dataframe tbody tr th:only-of-type {\n",
              "        vertical-align: middle;\n",
              "    }\n",
              "\n",
              "    .dataframe tbody tr th {\n",
              "        vertical-align: top;\n",
              "    }\n",
              "\n",
              "    .dataframe thead th {\n",
              "        text-align: right;\n",
              "    }\n",
              "</style>\n",
              "<table border=\"1\" class=\"dataframe\">\n",
              "  <thead>\n",
              "    <tr style=\"text-align: right;\">\n",
              "      <th></th>\n",
              "      <th>source_node</th>\n",
              "      <th>destination_node</th>\n",
              "      <th>indicator_link</th>\n",
              "      <th>jaccard_followers</th>\n",
              "      <th>jaccard_followees</th>\n",
              "      <th>cosine_followers</th>\n",
              "      <th>cosine_followees</th>\n",
              "      <th>num_followers_s</th>\n",
              "      <th>num_followers_d</th>\n",
              "      <th>num_followees_s</th>\n",
              "      <th>num_followees_d</th>\n",
              "      <th>inter_followers</th>\n",
              "      <th>inter_followees</th>\n",
              "    </tr>\n",
              "  </thead>\n",
              "  <tbody>\n",
              "    <tr>\n",
              "      <th>0</th>\n",
              "      <td>273084</td>\n",
              "      <td>1505602</td>\n",
              "      <td>1</td>\n",
              "      <td>0</td>\n",
              "      <td>0.000000</td>\n",
              "      <td>0.000000</td>\n",
              "      <td>0.000000</td>\n",
              "      <td>11</td>\n",
              "      <td>6</td>\n",
              "      <td>15</td>\n",
              "      <td>8</td>\n",
              "      <td>0</td>\n",
              "      <td>0</td>\n",
              "    </tr>\n",
              "    <tr>\n",
              "      <th>1</th>\n",
              "      <td>912810</td>\n",
              "      <td>1678443</td>\n",
              "      <td>1</td>\n",
              "      <td>0</td>\n",
              "      <td>0.058824</td>\n",
              "      <td>0.039528</td>\n",
              "      <td>0.111803</td>\n",
              "      <td>10</td>\n",
              "      <td>8</td>\n",
              "      <td>10</td>\n",
              "      <td>8</td>\n",
              "      <td>1</td>\n",
              "      <td>1</td>\n",
              "    </tr>\n",
              "    <tr>\n",
              "      <th>2</th>\n",
              "      <td>365429</td>\n",
              "      <td>1523458</td>\n",
              "      <td>1</td>\n",
              "      <td>0</td>\n",
              "      <td>0.023077</td>\n",
              "      <td>0.007441</td>\n",
              "      <td>0.046761</td>\n",
              "      <td>40</td>\n",
              "      <td>85</td>\n",
              "      <td>49</td>\n",
              "      <td>84</td>\n",
              "      <td>4</td>\n",
              "      <td>3</td>\n",
              "    </tr>\n",
              "    <tr>\n",
              "      <th>3</th>\n",
              "      <td>527014</td>\n",
              "      <td>1605979</td>\n",
              "      <td>1</td>\n",
              "      <td>0</td>\n",
              "      <td>0.000000</td>\n",
              "      <td>0.000000</td>\n",
              "      <td>0.000000</td>\n",
              "      <td>0</td>\n",
              "      <td>1</td>\n",
              "      <td>1</td>\n",
              "      <td>0</td>\n",
              "      <td>0</td>\n",
              "      <td>0</td>\n",
              "    </tr>\n",
              "    <tr>\n",
              "      <th>4</th>\n",
              "      <td>1228116</td>\n",
              "      <td>471233</td>\n",
              "      <td>1</td>\n",
              "      <td>0</td>\n",
              "      <td>0.162162</td>\n",
              "      <td>0.022272</td>\n",
              "      <td>0.279751</td>\n",
              "      <td>14</td>\n",
              "      <td>48</td>\n",
              "      <td>23</td>\n",
              "      <td>20</td>\n",
              "      <td>4</td>\n",
              "      <td>6</td>\n",
              "    </tr>\n",
              "  </tbody>\n",
              "</table>\n",
              "</div>"
            ],
            "text/plain": [
              "   source_node  destination_node  indicator_link  jaccard_followers  \\\n",
              "0       273084           1505602               1                  0   \n",
              "1       912810           1678443               1                  0   \n",
              "2       365429           1523458               1                  0   \n",
              "3       527014           1605979               1                  0   \n",
              "4      1228116            471233               1                  0   \n",
              "\n",
              "   jaccard_followees  cosine_followers  cosine_followees  num_followers_s  \\\n",
              "0           0.000000          0.000000          0.000000               11   \n",
              "1           0.058824          0.039528          0.111803               10   \n",
              "2           0.023077          0.007441          0.046761               40   \n",
              "3           0.000000          0.000000          0.000000                0   \n",
              "4           0.162162          0.022272          0.279751               14   \n",
              "\n",
              "   num_followers_d  num_followees_s  num_followees_d  inter_followers  \\\n",
              "0                6               15                8                0   \n",
              "1                8               10                8                1   \n",
              "2               85               49               84                4   \n",
              "3                1                1                0                0   \n",
              "4               48               23               20                4   \n",
              "\n",
              "   inter_followees  \n",
              "0                0  \n",
              "1                1  \n",
              "2                3  \n",
              "3                0  \n",
              "4                6  "
            ]
          },
          "execution_count": 46,
          "metadata": {},
          "output_type": "execute_result"
        }
      ],
      "source": [
        "df_final_train.head()"
      ]
    },
    {
      "cell_type": "code",
      "execution_count": null,
      "metadata": {
        "id": "0WZuK7YKeBCT",
        "outputId": "1841a650-c4dd-4a0a-e91e-fed72152c24c"
      },
      "outputs": [
        {
          "data": {
            "text/html": [
              "<div>\n",
              "<style scoped>\n",
              "    .dataframe tbody tr th:only-of-type {\n",
              "        vertical-align: middle;\n",
              "    }\n",
              "\n",
              "    .dataframe tbody tr th {\n",
              "        vertical-align: top;\n",
              "    }\n",
              "\n",
              "    .dataframe thead th {\n",
              "        text-align: right;\n",
              "    }\n",
              "</style>\n",
              "<table border=\"1\" class=\"dataframe\">\n",
              "  <thead>\n",
              "    <tr style=\"text-align: right;\">\n",
              "      <th></th>\n",
              "      <th>source_node</th>\n",
              "      <th>destination_node</th>\n",
              "      <th>indicator_link</th>\n",
              "      <th>jaccard_followers</th>\n",
              "      <th>jaccard_followees</th>\n",
              "      <th>cosine_followers</th>\n",
              "      <th>cosine_followees</th>\n",
              "      <th>num_followers_s</th>\n",
              "      <th>num_followers_d</th>\n",
              "      <th>num_followees_s</th>\n",
              "      <th>num_followees_d</th>\n",
              "      <th>inter_followers</th>\n",
              "      <th>inter_followees</th>\n",
              "    </tr>\n",
              "  </thead>\n",
              "  <tbody>\n",
              "    <tr>\n",
              "      <th>0</th>\n",
              "      <td>848424</td>\n",
              "      <td>784690</td>\n",
              "      <td>1</td>\n",
              "      <td>0</td>\n",
              "      <td>0.000000</td>\n",
              "      <td>0.029161</td>\n",
              "      <td>0.000000</td>\n",
              "      <td>6</td>\n",
              "      <td>14</td>\n",
              "      <td>6</td>\n",
              "      <td>9</td>\n",
              "      <td>1</td>\n",
              "      <td>0</td>\n",
              "    </tr>\n",
              "    <tr>\n",
              "      <th>1</th>\n",
              "      <td>1248963</td>\n",
              "      <td>444518</td>\n",
              "      <td>1</td>\n",
              "      <td>0</td>\n",
              "      <td>0.000000</td>\n",
              "      <td>0.000000</td>\n",
              "      <td>0.000000</td>\n",
              "      <td>5</td>\n",
              "      <td>1</td>\n",
              "      <td>8</td>\n",
              "      <td>2</td>\n",
              "      <td>0</td>\n",
              "      <td>0</td>\n",
              "    </tr>\n",
              "    <tr>\n",
              "      <th>2</th>\n",
              "      <td>264224</td>\n",
              "      <td>132395</td>\n",
              "      <td>1</td>\n",
              "      <td>0</td>\n",
              "      <td>0.400000</td>\n",
              "      <td>0.353553</td>\n",
              "      <td>0.571429</td>\n",
              "      <td>8</td>\n",
              "      <td>3</td>\n",
              "      <td>7</td>\n",
              "      <td>7</td>\n",
              "      <td>3</td>\n",
              "      <td>4</td>\n",
              "    </tr>\n",
              "    <tr>\n",
              "      <th>3</th>\n",
              "      <td>549680</td>\n",
              "      <td>326829</td>\n",
              "      <td>1</td>\n",
              "      <td>0</td>\n",
              "      <td>0.040000</td>\n",
              "      <td>0.060634</td>\n",
              "      <td>0.077850</td>\n",
              "      <td>17</td>\n",
              "      <td>12</td>\n",
              "      <td>11</td>\n",
              "      <td>15</td>\n",
              "      <td>3</td>\n",
              "      <td>1</td>\n",
              "    </tr>\n",
              "    <tr>\n",
              "      <th>4</th>\n",
              "      <td>875380</td>\n",
              "      <td>1394902</td>\n",
              "      <td>1</td>\n",
              "      <td>0</td>\n",
              "      <td>0.184211</td>\n",
              "      <td>0.060198</td>\n",
              "      <td>0.313050</td>\n",
              "      <td>21</td>\n",
              "      <td>29</td>\n",
              "      <td>20</td>\n",
              "      <td>25</td>\n",
              "      <td>8</td>\n",
              "      <td>7</td>\n",
              "    </tr>\n",
              "  </tbody>\n",
              "</table>\n",
              "</div>"
            ],
            "text/plain": [
              "   source_node  destination_node  indicator_link  jaccard_followers  \\\n",
              "0       848424            784690               1                  0   \n",
              "1      1248963            444518               1                  0   \n",
              "2       264224            132395               1                  0   \n",
              "3       549680            326829               1                  0   \n",
              "4       875380           1394902               1                  0   \n",
              "\n",
              "   jaccard_followees  cosine_followers  cosine_followees  num_followers_s  \\\n",
              "0           0.000000          0.029161          0.000000                6   \n",
              "1           0.000000          0.000000          0.000000                5   \n",
              "2           0.400000          0.353553          0.571429                8   \n",
              "3           0.040000          0.060634          0.077850               17   \n",
              "4           0.184211          0.060198          0.313050               21   \n",
              "\n",
              "   num_followers_d  num_followees_s  num_followees_d  inter_followers  \\\n",
              "0               14                6                9                1   \n",
              "1                1                8                2                0   \n",
              "2                3                7                7                3   \n",
              "3               12               11               15                3   \n",
              "4               29               20               25                8   \n",
              "\n",
              "   inter_followees  \n",
              "0                0  \n",
              "1                0  \n",
              "2                4  \n",
              "3                1  \n",
              "4                7  "
            ]
          },
          "execution_count": 47,
          "metadata": {},
          "output_type": "execute_result"
        }
      ],
      "source": [
        "df_final_test.head()"
      ]
    },
    {
      "cell_type": "markdown",
      "metadata": {
        "id": "go_e8hxxVFIO"
      },
      "source": [
        "## 5.3 Adding new set of features\n",
        "\n",
        "__we will create these each of these features for both train and test data points__\n",
        "<ol>\n",
        "<li>adar index</li>\n",
        "<li>is following back</li>\n",
        "<li>belongs to same weakly connect components</li>\n",
        "<li>shortest path between source and destination</li>\n",
        "</ol>"
      ]
    },
    {
      "cell_type": "code",
      "execution_count": null,
      "metadata": {
        "id": "LqB0Peg0VFIP"
      },
      "outputs": [],
      "source": [
        "if not os.path.isfile(folder_path+'storage_sample_stage2.h5'):\n",
        "    #mapping adar index on train\n",
        "    df_final_train['adar_index'] = df_final_train.apply(lambda row: calc_adar_in(row['source_node'],row['destination_node']),axis=1)\n",
        "    #mapping adar index on test\n",
        "    df_final_test['adar_index'] = df_final_test.apply(lambda row: calc_adar_in(row['source_node'],row['destination_node']),axis=1)\n",
        "\n",
        "    #--------------------------------------------------------------------------------------------------------\n",
        "    #mapping followback or not on train\n",
        "    df_final_train['follows_back'] = df_final_train.apply(lambda row: follows_back(row['source_node'],row['destination_node']),axis=1)\n",
        "\n",
        "    #mapping followback or not on test\n",
        "    df_final_test['follows_back'] = df_final_test.apply(lambda row: follows_back(row['source_node'],row['destination_node']),axis=1)\n",
        "\n",
        "    #--------------------------------------------------------------------------------------------------------\n",
        "    #mapping same component of wcc or not on train\n",
        "    df_final_train['same_comp'] = df_final_train.apply(lambda row: belongs_to_same_wcc(row['source_node'],row['destination_node']),axis=1)\n",
        "\n",
        "    ##mapping same component of wcc or not on train\n",
        "    df_final_test['same_comp'] = df_final_test.apply(lambda row: belongs_to_same_wcc(row['source_node'],row['destination_node']),axis=1)\n",
        "    \n",
        "    #--------------------------------------------------------------------------------------------------------\n",
        "    #mapping shortest path on train \n",
        "    df_final_train['shortest_path'] = df_final_train.apply(lambda row: compute_shortest_path_length(row['source_node'],row['destination_node']),axis=1)\n",
        "    #mapping shortest path on test\n",
        "    df_final_test['shortest_path'] = df_final_test.apply(lambda row: compute_shortest_path_length(row['source_node'],row['destination_node']),axis=1)\n",
        "\n",
        "    hdf = HDFStore(folder_path+'storage_stage2.h5')\n",
        "    hdf.put('train_df',df_final_train, format='table', data_columns=True)\n",
        "    hdf.put('test_df',df_final_test, format='table', data_columns=True)\n",
        "    hdf.close()\n",
        "else:\n",
        "    df_final_train = read_hdf(folder_path+'storage_stage2.h5', 'train_df',mode='r')\n",
        "    df_final_test = read_hdf(folder_path+'storage_stage2.h5', 'test_df',mode='r')"
      ]
    },
    {
      "cell_type": "markdown",
      "metadata": {
        "id": "HJ8Dbma_VFIR"
      },
      "source": [
        "## 5.4 Adding new set of features\n",
        "\n",
        "__we will create these each of these features for both train and test data points__\n",
        "<ol>\n",
        "<li>Weight Features\n",
        "    <ul>\n",
        "        <li>weight of incoming edges</li>\n",
        "        <li>weight of outgoing edges</li>\n",
        "        <li>weight of incoming edges + weight of outgoing edges</li>\n",
        "        <li>weight of incoming edges * weight of outgoing edges</li>\n",
        "        <li>2*weight of incoming edges + weight of outgoing edges</li>\n",
        "        <li>weight of incoming edges + 2*weight of outgoing edges</li>\n",
        "    </ul>\n",
        "</li>\n",
        "<li>Page Ranking of source</li>\n",
        "<li>Page Ranking of dest</li>\n",
        "<li>katz of source</li>\n",
        "<li>katz of dest</li>\n",
        "<li>hubs of source</li>\n",
        "<li>hubs of dest</li>\n",
        "<li>authorities_s of source</li>\n",
        "<li>authorities_s of dest</li>\n",
        "</ol>"
      ]
    },
    {
      "cell_type": "markdown",
      "metadata": {
        "id": "iVHI2jtNVFIS"
      },
      "source": [
        "#### Weight Features"
      ]
    },
    {
      "cell_type": "markdown",
      "metadata": {
        "id": "rXmUYF9FVFIT"
      },
      "source": [
        "In order to determine the similarity of nodes, an edge weight value was calculated between nodes. Edge weight decreases as the neighbor count goes up. Intuitively, consider one million people following a celebrity on a social network then chances are most of them never met each other or the celebrity. On the other hand, if a user has 30 contacts in his/her social network, the chances are higher that many of them know each other. \n",
        "`credit` - Graph-based Features for Supervised Link Prediction\n",
        "William Cukierski, Benjamin Hamner, Bo Yang"
      ]
    },
    {
      "cell_type": "markdown",
      "metadata": {
        "id": "Qzbs2no7VFIV"
      },
      "source": [
        "\\begin{equation}\n",
        "W = \\frac{1}{\\sqrt{1+|X|}}\n",
        "\\end{equation}"
      ]
    },
    {
      "cell_type": "markdown",
      "metadata": {
        "id": "kkzUPrWaVFIV"
      },
      "source": [
        "it is directed graph so calculated Weighted in and Weighted out differently"
      ]
    },
    {
      "cell_type": "code",
      "execution_count": null,
      "metadata": {
        "id": "FgNMzzTbVFIW",
        "outputId": "7e8e6d88-8bd6-45f6-f80e-82b093c18974"
      },
      "outputs": [
        {
          "name": "stderr",
          "output_type": "stream",
          "text": [
            "100%|██████████| 1780722/1780722 [00:12<00:00, 146312.81it/s]\n"
          ]
        }
      ],
      "source": [
        "#weight for source and destination of each link\n",
        "Weight_in = {}\n",
        "Weight_out = {}\n",
        "for i in  tqdm(train_graph.nodes()):\n",
        "    s1=set(train_graph.predecessors(i))\n",
        "    w_in = 1.0/(np.sqrt(1+len(s1)))\n",
        "    Weight_in[i]=w_in\n",
        "    \n",
        "    s2=set(train_graph.successors(i))\n",
        "    w_out = 1.0/(np.sqrt(1+len(s2)))\n",
        "    Weight_out[i]=w_out\n",
        "    \n",
        "#for imputing with mean\n",
        "mean_weight_in = np.mean(list(Weight_in.values()))\n",
        "mean_weight_out = np.mean(list(Weight_out.values()))"
      ]
    },
    {
      "cell_type": "code",
      "execution_count": null,
      "metadata": {
        "id": "AF4yPhIOVFIY"
      },
      "outputs": [],
      "source": [
        "if not os.path.isfile(folder_path+'storage_stage3.h5'):\n",
        "    #mapping to pandas train\n",
        "    df_final_train['weight_in'] = df_final_train.destination_node.apply(lambda x: Weight_in.get(x,mean_weight_in))\n",
        "    df_final_train['weight_out'] = df_final_train.source_node.apply(lambda x: Weight_out.get(x,mean_weight_out))\n",
        "\n",
        "    #mapping to pandas test\n",
        "    df_final_test['weight_in'] = df_final_test.destination_node.apply(lambda x: Weight_in.get(x,mean_weight_in))\n",
        "    df_final_test['weight_out'] = df_final_test.source_node.apply(lambda x: Weight_out.get(x,mean_weight_out))\n",
        "\n",
        "\n",
        "    #some features engineerings on the in and out weights\n",
        "    df_final_train['weight_f1'] = df_final_train.weight_in + df_final_train.weight_out\n",
        "    df_final_train['weight_f2'] = df_final_train.weight_in * df_final_train.weight_out\n",
        "    df_final_train['weight_f3'] = (2*df_final_train.weight_in + 1*df_final_train.weight_out)\n",
        "    df_final_train['weight_f4'] = (1*df_final_train.weight_in + 2*df_final_train.weight_out)\n",
        "\n",
        "    #some features engineerings on the in and out weights\n",
        "    df_final_test['weight_f1'] = df_final_test.weight_in + df_final_test.weight_out\n",
        "    df_final_test['weight_f2'] = df_final_test.weight_in * df_final_test.weight_out\n",
        "    df_final_test['weight_f3'] = (2*df_final_test.weight_in + 1*df_final_test.weight_out)\n",
        "    df_final_test['weight_f4'] = (1*df_final_test.weight_in + 2*df_final_test.weight_out)"
      ]
    },
    {
      "cell_type": "code",
      "execution_count": null,
      "metadata": {
        "id": "uhxzhQ9aVFIa"
      },
      "outputs": [],
      "source": [
        "if not os.path.isfile(folder_path+'storage_stage3.h5'):\n",
        "    \n",
        "    #page rank for source and destination in Train and Test\n",
        "    #if anything not there in train graph then adding mean page rank \n",
        "    df_final_train['page_rank_s'] = df_final_train.source_node.apply(lambda x:pr.get(x,mean_pr))\n",
        "    df_final_train['page_rank_d'] = df_final_train.destination_node.apply(lambda x:pr.get(x,mean_pr))\n",
        "\n",
        "    df_final_test['page_rank_s'] = df_final_test.source_node.apply(lambda x:pr.get(x,mean_pr))\n",
        "    df_final_test['page_rank_d'] = df_final_test.destination_node.apply(lambda x:pr.get(x,mean_pr))\n",
        "    #================================================================================\n",
        "\n",
        "    #Katz centrality score for source and destination in Train and test\n",
        "    #if anything not there in train graph then adding mean katz score\n",
        "    df_final_train['katz_s'] = df_final_train.source_node.apply(lambda x: katz.get(x,mean_katz))\n",
        "    df_final_train['katz_d'] = df_final_train.destination_node.apply(lambda x: katz.get(x,mean_katz))\n",
        "\n",
        "    df_final_test['katz_s'] = df_final_test.source_node.apply(lambda x: katz.get(x,mean_katz))\n",
        "    df_final_test['katz_d'] = df_final_test.destination_node.apply(lambda x: katz.get(x,mean_katz))\n",
        "    #================================================================================\n",
        "\n",
        "    #Hits algorithm score for source and destination in Train and test\n",
        "    #if anything not there in train graph then adding 0\n",
        "    df_final_train['hubs_s'] = df_final_train.source_node.apply(lambda x: hits[0].get(x,0))\n",
        "    df_final_train['hubs_d'] = df_final_train.destination_node.apply(lambda x: hits[0].get(x,0))\n",
        "\n",
        "    df_final_test['hubs_s'] = df_final_test.source_node.apply(lambda x: hits[0].get(x,0))\n",
        "    df_final_test['hubs_d'] = df_final_test.destination_node.apply(lambda x: hits[0].get(x,0))\n",
        "    #================================================================================\n",
        "\n",
        "    #Hits algorithm score for source and destination in Train and Test\n",
        "    #if anything not there in train graph then adding 0\n",
        "    df_final_train['authorities_s'] = df_final_train.source_node.apply(lambda x: hits[1].get(x,0))\n",
        "    df_final_train['authorities_d'] = df_final_train.destination_node.apply(lambda x: hits[1].get(x,0))\n",
        "\n",
        "    df_final_test['authorities_s'] = df_final_test.source_node.apply(lambda x: hits[1].get(x,0))\n",
        "    df_final_test['authorities_d'] = df_final_test.destination_node.apply(lambda x: hits[1].get(x,0))\n",
        "    #================================================================================\n",
        "\n",
        "    hdf = HDFStore(folder_path+'storage_stage3.h5')\n",
        "    hdf.put('train_df',df_final_train, format='table', data_columns=True)\n",
        "    hdf.put('test_df',df_final_test, format='table', data_columns=True)\n",
        "    hdf.close()\n",
        "else:\n",
        "    df_final_train = read_hdf(folder_path+'storage_stage3.h5', 'train_df',mode='r')\n",
        "    df_final_test = read_hdf(folder_path+'storage_stage3.h5', 'test_df',mode='r')"
      ]
    },
    {
      "cell_type": "markdown",
      "metadata": {
        "id": "p6xkDfD-VFIb"
      },
      "source": [
        "## 5.5 Adding new set of features\n",
        "\n",
        "__we will create these each of these features for both train and test data points__\n",
        "<ol>\n",
        "<li>SVD features for both source and destination</li>\n",
        "</ol>"
      ]
    },
    {
      "cell_type": "code",
      "execution_count": null,
      "metadata": {
        "id": "WQO6E65eVFIc"
      },
      "outputs": [],
      "source": [
        "def svd(x, S):\n",
        "    try:\n",
        "        z = sadj_dict[x]\n",
        "        return S[z]\n",
        "    except:\n",
        "        return [0,0,0,0,0,0]"
      ]
    },
    {
      "cell_type": "code",
      "execution_count": null,
      "metadata": {
        "id": "9sOyLwvNVFId"
      },
      "outputs": [],
      "source": [
        "#for svd features to get feature vector creating a dict node val and inedx in svd vector\n",
        "sadj_col = sorted(train_graph.nodes())\n",
        "sadj_dict = { val:idx for idx,val in enumerate(sadj_col)}"
      ]
    },
    {
      "cell_type": "code",
      "execution_count": null,
      "metadata": {
        "id": "zLSt8fGVVFIg"
      },
      "outputs": [],
      "source": [
        "Adj = nx.adjacency_matrix(train_graph,nodelist=sorted(train_graph.nodes())).asfptype()"
      ]
    },
    {
      "cell_type": "code",
      "execution_count": null,
      "metadata": {
        "id": "soq-VAHlVFIh",
        "outputId": "3f9bfb32-004f-4698-e415-469243250130"
      },
      "outputs": [
        {
          "name": "stdout",
          "output_type": "stream",
          "text": [
            "Adjacency matrix Shape (1780722, 1780722)\n",
            "U Shape (1780722, 6)\n",
            "V Shape (6, 1780722)\n",
            "s Shape (6,)\n"
          ]
        }
      ],
      "source": [
        "U, s, V = svds(Adj, k = 6)\n",
        "print('Adjacency matrix Shape',Adj.shape)\n",
        "print('U Shape',U.shape)\n",
        "print('V Shape',V.shape)\n",
        "print('s Shape',s.shape)"
      ]
    },
    {
      "cell_type": "code",
      "execution_count": null,
      "metadata": {
        "id": "ls5fqLFhVFIm"
      },
      "outputs": [],
      "source": [
        "if not os.path.isfile(folder_path+'storage_stage4.h5'):\n",
        "    #===================================================================================================\n",
        "    \n",
        "    df_final_train[['svd_u_s_1', 'svd_u_s_2','svd_u_s_3', 'svd_u_s_4', 'svd_u_s_5', 'svd_u_s_6']] = \\\n",
        "    df_final_train.source_node.apply(lambda x: svd(x, U)).apply(pd.Series)\n",
        "    \n",
        "    df_final_train[['svd_u_d_1', 'svd_u_d_2', 'svd_u_d_3', 'svd_u_d_4', 'svd_u_d_5','svd_u_d_6']] = \\\n",
        "    df_final_train.destination_node.apply(lambda x: svd(x, U)).apply(pd.Series)\n",
        "    #===================================================================================================\n",
        "    \n",
        "    df_final_train[['svd_v_s_1','svd_v_s_2', 'svd_v_s_3', 'svd_v_s_4', 'svd_v_s_5', 'svd_v_s_6',]] = \\\n",
        "    df_final_train.source_node.apply(lambda x: svd(x, V.T)).apply(pd.Series)\n",
        "\n",
        "    df_final_train[['svd_v_d_1', 'svd_v_d_2', 'svd_v_d_3', 'svd_v_d_4', 'svd_v_d_5','svd_v_d_6']] = \\\n",
        "    df_final_train.destination_node.apply(lambda x: svd(x, V.T)).apply(pd.Series)\n",
        "    #===================================================================================================\n",
        "    \n",
        "    df_final_test[['svd_u_s_1', 'svd_u_s_2','svd_u_s_3', 'svd_u_s_4', 'svd_u_s_5', 'svd_u_s_6']] = \\\n",
        "    df_final_test.source_node.apply(lambda x: svd(x, U)).apply(pd.Series)\n",
        "    \n",
        "    df_final_test[['svd_u_d_1', 'svd_u_d_2', 'svd_u_d_3', 'svd_u_d_4', 'svd_u_d_5','svd_u_d_6']] = \\\n",
        "    df_final_test.destination_node.apply(lambda x: svd(x, U)).apply(pd.Series)\n",
        "\n",
        "    #===================================================================================================\n",
        "    \n",
        "    df_final_test[['svd_v_s_1','svd_v_s_2', 'svd_v_s_3', 'svd_v_s_4', 'svd_v_s_5', 'svd_v_s_6',]] = \\\n",
        "    df_final_test.source_node.apply(lambda x: svd(x, V.T)).apply(pd.Series)\n",
        "\n",
        "    df_final_test[['svd_v_d_1', 'svd_v_d_2', 'svd_v_d_3', 'svd_v_d_4', 'svd_v_d_5','svd_v_d_6']] = \\\n",
        "    df_final_test.destination_node.apply(lambda x: svd(x, V.T)).apply(pd.Series)\n",
        "    #===================================================================================================\n",
        "\n",
        "    hdf = HDFStore(folder_path+'storage_stage4.h5')\n",
        "    hdf.put('train_df',df_final_train, format='table', data_columns=True)\n",
        "    hdf.put('test_df',df_final_test, format='table', data_columns=True)\n",
        "    hdf.close()"
      ]
    },
    {
      "cell_type": "code",
      "execution_count": null,
      "metadata": {
        "id": "0-hBtlkzVFIn"
      },
      "outputs": [],
      "source": [
        "# prepared and stored the data from machine learning models\n",
        "# pelase check the FB_Models.ipynb"
      ]
    },
    {
      "cell_type": "markdown",
      "metadata": {
        "id": "HXAOS8ndeBCU"
      },
      "source": [
        "## 5.6 Adding 2 new features:\n",
        "\n",
        "* Preferential Attachment (pref_att)\n",
        "* Dot product between sourse node and destination node svd features (svd_dot)"
      ]
    },
    {
      "cell_type": "markdown",
      "metadata": {
        "id": "eM0fREp7eBCU"
      },
      "source": [
        "1. Preferential Attachment (pref_att):\n",
        "\n",
        "    Preferential Attachment = (Number of followers of source node) X (Number of followers of destination node)\n",
        "    \n",
        "    OR\n",
        "    \n",
        "    **pref_att** = num_followers_s * num_followers_d\n",
        "    \n",
        "    \n",
        "2. SVD dot product feature:\n",
        "\n",
        "    **svd_dot_u** = (svd_u_s_1 * svd_u_d_1) + (svd_u_s_2 * svd_u_d_2) + (svd_u_s_3 * svd_u_d_3) + (svd_u_s_4 * svd_u_d_4) + (svd_u_s_5 * svd_u_d_5) + (svd_u_s_6 * svd_u_d_6)\n",
        "\n",
        "    **svd_dot_v** = (svd_v_s_1 * svd_v_d_1) + (svd_v_s_2 * svd_v_d_2) + (svd_v_s_3 * svd_v_d_3) + (svd_u_v_4 * svd_v_d_4) + (svd_v_s_5 * svd_v_d_5) + (svd_v_s_6 * svd_v_d_6)"
      ]
    },
    {
      "cell_type": "code",
      "execution_count": null,
      "metadata": {
        "id": "tQUDprTVeBCV",
        "outputId": "b3b007f3-caa6-4b6b-a7cf-a56675f38299"
      },
      "outputs": [
        {
          "name": "stderr",
          "output_type": "stream",
          "text": [
            "100%|██████████| 6/6 [00:02<00:00,  2.54it/s]\n"
          ]
        }
      ],
      "source": [
        "if not os.path.isfile(folder_path+'storage_stage5.h5'):\n",
        "    # Preferential Attachment\n",
        "    df_final_train['preff_att'] = df_final_train['num_followers_s'] * df_final_train['num_followers_d']\n",
        "    df_final_test['preff_att'] = df_final_test['num_followers_s'] * df_final_test['num_followers_d']\n",
        "    \n",
        "    # SVD dot product\n",
        "    train_svd_dot_u = np.zeros_like(df_final_train['svd_u_s_1'].to_numpy())\n",
        "    train_svd_dot_v = np.zeros_like(df_final_train['svd_v_s_1'].to_numpy())\n",
        "    test_svd_dot_u = np.zeros_like(df_final_test['svd_u_s_1'].to_numpy())\n",
        "    test_svd_dot_v = np.zeros_like(df_final_test['svd_v_s_1'].to_numpy())\n",
        "    for i in tqdm(range(1, 7)):\n",
        "        train_svd_dot_u += df_final_train['svd_u_s_'+str(i)].to_numpy(copy=True) * \\\n",
        "                           df_final_train['svd_u_d_'+str(i)].to_numpy(copy=True)\n",
        "        train_svd_dot_v += df_final_train['svd_v_s_'+str(i)].to_numpy(copy=True) * \\\n",
        "                           df_final_train['svd_v_d_'+str(i)].to_numpy(copy=True)\n",
        "        test_svd_dot_u += df_final_test['svd_u_s_'+str(i)].to_numpy(copy=True) * \\\n",
        "                          df_final_test['svd_u_d_'+str(i)].to_numpy(copy=True)\n",
        "        test_svd_dot_v += df_final_test['svd_v_s_'+str(i)].to_numpy(copy=True) * \\\n",
        "                          df_final_test['svd_v_d_'+str(i)].to_numpy(copy=True)\n",
        "    df_final_train['svd_dot_u'] = train_svd_dot_u\n",
        "    df_final_train['svd_dot_v'] = train_svd_dot_v\n",
        "    df_final_test['svd_dot_u'] = test_svd_dot_u\n",
        "    df_final_test['svd_dot_v'] = test_svd_dot_v\n",
        "    \n",
        "    hdf = HDFStore(folder_path+'storage_stage5.h5')\n",
        "    hdf.put('train_df',df_final_train, format='table', data_columns=True)\n",
        "    hdf.put('test_df',df_final_test, format='table', data_columns=True)\n",
        "    hdf.close()\n",
        "else:\n",
        "    df_final_train = read_hdf(folder_path+'storage_stage5.h5', 'train_df',mode='r')\n",
        "    df_final_test = read_hdf(folder_path+'storage_stage5.h5', 'test_df',mode='r')"
      ]
    },
    {
      "cell_type": "code",
      "execution_count": null,
      "metadata": {
        "id": "-5mfW1DUeBCV",
        "outputId": "dd8a0529-d241-4663-ca75-a7b618b3ef0d"
      },
      "outputs": [
        {
          "data": {
            "text/html": [
              "<div>\n",
              "<style scoped>\n",
              "    .dataframe tbody tr th:only-of-type {\n",
              "        vertical-align: middle;\n",
              "    }\n",
              "\n",
              "    .dataframe tbody tr th {\n",
              "        vertical-align: top;\n",
              "    }\n",
              "\n",
              "    .dataframe thead th {\n",
              "        text-align: right;\n",
              "    }\n",
              "</style>\n",
              "<table border=\"1\" class=\"dataframe\">\n",
              "  <thead>\n",
              "    <tr style=\"text-align: right;\">\n",
              "      <th></th>\n",
              "      <th>source_node</th>\n",
              "      <th>destination_node</th>\n",
              "      <th>indicator_link</th>\n",
              "      <th>jaccard_followers</th>\n",
              "      <th>jaccard_followees</th>\n",
              "      <th>cosine_followers</th>\n",
              "      <th>cosine_followees</th>\n",
              "      <th>num_followers_s</th>\n",
              "      <th>num_followers_d</th>\n",
              "      <th>num_followees_s</th>\n",
              "      <th>...</th>\n",
              "      <th>svd_v_s_6</th>\n",
              "      <th>svd_v_d_1</th>\n",
              "      <th>svd_v_d_2</th>\n",
              "      <th>svd_v_d_3</th>\n",
              "      <th>svd_v_d_4</th>\n",
              "      <th>svd_v_d_5</th>\n",
              "      <th>svd_v_d_6</th>\n",
              "      <th>preff_att</th>\n",
              "      <th>svd_dot_u</th>\n",
              "      <th>svd_dot_v</th>\n",
              "    </tr>\n",
              "  </thead>\n",
              "  <tbody>\n",
              "    <tr>\n",
              "      <th>0</th>\n",
              "      <td>273084</td>\n",
              "      <td>1505602</td>\n",
              "      <td>1</td>\n",
              "      <td>0</td>\n",
              "      <td>0.000000</td>\n",
              "      <td>0.000000</td>\n",
              "      <td>0.000000</td>\n",
              "      <td>11</td>\n",
              "      <td>6</td>\n",
              "      <td>15</td>\n",
              "      <td>...</td>\n",
              "      <td>1.717984e-14</td>\n",
              "      <td>-1.346929e-12</td>\n",
              "      <td>4.654510e-13</td>\n",
              "      <td>1.128062e-06</td>\n",
              "      <td>6.603719e-14</td>\n",
              "      <td>9.758957e-13</td>\n",
              "      <td>4.150280e-14</td>\n",
              "      <td>66</td>\n",
              "      <td>1.113002e-11</td>\n",
              "      <td>2.236515e-12</td>\n",
              "    </tr>\n",
              "    <tr>\n",
              "      <th>1</th>\n",
              "      <td>912810</td>\n",
              "      <td>1678443</td>\n",
              "      <td>1</td>\n",
              "      <td>0</td>\n",
              "      <td>0.058824</td>\n",
              "      <td>0.039528</td>\n",
              "      <td>0.111803</td>\n",
              "      <td>10</td>\n",
              "      <td>8</td>\n",
              "      <td>10</td>\n",
              "      <td>...</td>\n",
              "      <td>1.770376e-14</td>\n",
              "      <td>-2.774214e-13</td>\n",
              "      <td>6.838817e-15</td>\n",
              "      <td>3.887074e-11</td>\n",
              "      <td>1.421590e-14</td>\n",
              "      <td>1.051865e-13</td>\n",
              "      <td>9.549422e-17</td>\n",
              "      <td>80</td>\n",
              "      <td>8.988954e-20</td>\n",
              "      <td>1.182088e-19</td>\n",
              "    </tr>\n",
              "    <tr>\n",
              "      <th>2</th>\n",
              "      <td>365429</td>\n",
              "      <td>1523458</td>\n",
              "      <td>1</td>\n",
              "      <td>0</td>\n",
              "      <td>0.023077</td>\n",
              "      <td>0.007441</td>\n",
              "      <td>0.046761</td>\n",
              "      <td>40</td>\n",
              "      <td>85</td>\n",
              "      <td>49</td>\n",
              "      <td>...</td>\n",
              "      <td>1.444653e-12</td>\n",
              "      <td>-9.005130e-10</td>\n",
              "      <td>2.904419e-11</td>\n",
              "      <td>4.188736e-05</td>\n",
              "      <td>8.459537e-12</td>\n",
              "      <td>3.402398e-11</td>\n",
              "      <td>1.169609e-12</td>\n",
              "      <td>3400</td>\n",
              "      <td>3.510465e-08</td>\n",
              "      <td>2.888742e-09</td>\n",
              "    </tr>\n",
              "    <tr>\n",
              "      <th>3</th>\n",
              "      <td>527014</td>\n",
              "      <td>1605979</td>\n",
              "      <td>1</td>\n",
              "      <td>0</td>\n",
              "      <td>0.000000</td>\n",
              "      <td>0.000000</td>\n",
              "      <td>0.000000</td>\n",
              "      <td>0</td>\n",
              "      <td>1</td>\n",
              "      <td>1</td>\n",
              "      <td>...</td>\n",
              "      <td>0.000000e+00</td>\n",
              "      <td>0.000000e+00</td>\n",
              "      <td>0.000000e+00</td>\n",
              "      <td>0.000000e+00</td>\n",
              "      <td>0.000000e+00</td>\n",
              "      <td>0.000000e+00</td>\n",
              "      <td>0.000000e+00</td>\n",
              "      <td>0</td>\n",
              "      <td>8.667694e-39</td>\n",
              "      <td>0.000000e+00</td>\n",
              "    </tr>\n",
              "    <tr>\n",
              "      <th>4</th>\n",
              "      <td>1228116</td>\n",
              "      <td>471233</td>\n",
              "      <td>1</td>\n",
              "      <td>0</td>\n",
              "      <td>0.162162</td>\n",
              "      <td>0.022272</td>\n",
              "      <td>0.279751</td>\n",
              "      <td>14</td>\n",
              "      <td>48</td>\n",
              "      <td>23</td>\n",
              "      <td>...</td>\n",
              "      <td>1.107779e-16</td>\n",
              "      <td>-1.022648e-14</td>\n",
              "      <td>1.734631e-07</td>\n",
              "      <td>2.611192e-10</td>\n",
              "      <td>2.141257e-14</td>\n",
              "      <td>1.502969e-09</td>\n",
              "      <td>6.337733e-16</td>\n",
              "      <td>672</td>\n",
              "      <td>2.668385e-15</td>\n",
              "      <td>1.403091e-15</td>\n",
              "    </tr>\n",
              "  </tbody>\n",
              "</table>\n",
              "<p>5 rows × 58 columns</p>\n",
              "</div>"
            ],
            "text/plain": [
              "   source_node  destination_node  indicator_link  jaccard_followers  \\\n",
              "0       273084           1505602               1                  0   \n",
              "1       912810           1678443               1                  0   \n",
              "2       365429           1523458               1                  0   \n",
              "3       527014           1605979               1                  0   \n",
              "4      1228116            471233               1                  0   \n",
              "\n",
              "   jaccard_followees  cosine_followers  cosine_followees  num_followers_s  \\\n",
              "0           0.000000          0.000000          0.000000               11   \n",
              "1           0.058824          0.039528          0.111803               10   \n",
              "2           0.023077          0.007441          0.046761               40   \n",
              "3           0.000000          0.000000          0.000000                0   \n",
              "4           0.162162          0.022272          0.279751               14   \n",
              "\n",
              "   num_followers_d  num_followees_s  ...     svd_v_s_6     svd_v_d_1  \\\n",
              "0                6               15  ...  1.717984e-14 -1.346929e-12   \n",
              "1                8               10  ...  1.770376e-14 -2.774214e-13   \n",
              "2               85               49  ...  1.444653e-12 -9.005130e-10   \n",
              "3                1                1  ...  0.000000e+00  0.000000e+00   \n",
              "4               48               23  ...  1.107779e-16 -1.022648e-14   \n",
              "\n",
              "      svd_v_d_2     svd_v_d_3     svd_v_d_4     svd_v_d_5     svd_v_d_6  \\\n",
              "0  4.654510e-13  1.128062e-06  6.603719e-14  9.758957e-13  4.150280e-14   \n",
              "1  6.838817e-15  3.887074e-11  1.421590e-14  1.051865e-13  9.549422e-17   \n",
              "2  2.904419e-11  4.188736e-05  8.459537e-12  3.402398e-11  1.169609e-12   \n",
              "3  0.000000e+00  0.000000e+00  0.000000e+00  0.000000e+00  0.000000e+00   \n",
              "4  1.734631e-07  2.611192e-10  2.141257e-14  1.502969e-09  6.337733e-16   \n",
              "\n",
              "   preff_att     svd_dot_u     svd_dot_v  \n",
              "0         66  1.113002e-11  2.236515e-12  \n",
              "1         80  8.988954e-20  1.182088e-19  \n",
              "2       3400  3.510465e-08  2.888742e-09  \n",
              "3          0  8.667694e-39  0.000000e+00  \n",
              "4        672  2.668385e-15  1.403091e-15  \n",
              "\n",
              "[5 rows x 58 columns]"
            ]
          },
          "execution_count": 59,
          "metadata": {},
          "output_type": "execute_result"
        }
      ],
      "source": [
        "df_final_train.head()"
      ]
    }
  ],
  "metadata": {
    "colab": {
      "collapsed_sections": [],
      "name": "FB_Featurization_Solution.ipynb",
      "provenance": []
    },
    "kernelspec": {
      "display_name": "Python 3",
      "language": "python",
      "name": "python3"
    },
    "language_info": {
      "codemirror_mode": {
        "name": "ipython",
        "version": 3
      },
      "file_extension": ".py",
      "mimetype": "text/x-python",
      "name": "python",
      "nbconvert_exporter": "python",
      "pygments_lexer": "ipython3",
      "version": "3.7.6"
    }
  },
  "nbformat": 4,
  "nbformat_minor": 0
}